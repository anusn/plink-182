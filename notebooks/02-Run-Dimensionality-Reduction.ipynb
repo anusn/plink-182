{
 "cells": [
  {
   "cell_type": "markdown",
   "metadata": {},
   "source": [
    "# 2. Run the dimensionality reduction algorithms"
   ]
  },
  {
   "cell_type": "code",
   "execution_count": 12,
   "metadata": {},
   "outputs": [],
   "source": [
    "import numpy as np\n",
    "import os\n",
    "PREFIX = os.path.join(os.environ[\"HOME\"], \"plink-182\")\n",
    "DATA_PREFIX = os.path.join(PREFIX, \"data\")\n",
    "OUT_PREFIX = os.path.join(PREFIX, \"dr_outputs\")"
   ]
  },
  {
   "cell_type": "markdown",
   "metadata": {},
   "source": [
    "## Define \"method + hyperparameter combinations\" to test\n",
    "\n",
    "`method2hpsettings` is a dictionary that maps the dimensionality reduction method name (one of `\"pca\"`, `\"pcoa\"`, `\"umap\"`, or `\"tsne\"`) to a list of dictionaries defining the hyperparameter settings to try for that method. The total number of dictionaries within lists defines the number of different \"method + hyperparameter combinations\" to test."
   ]
  },
  {
   "cell_type": "code",
   "execution_count": 6,
   "metadata": {},
   "outputs": [],
   "source": [
    "method2hpsettings = {\n",
    "    \"pca\": [{\"whiten\": False}, {\"whiten\": True}],\n",
    "    \"pcoa\": [{\"metric\": \"jaccard\"}, {\"metric\": \"bray-curtis\"}, {\"metric\": \"canberra\"}],\n",
    "    \"umap\": [{}],\n",
    "    \"tsne\": [{}]\n",
    "}\n",
    "run_id = 0"
   ]
  },
  {
   "cell_type": "markdown",
   "metadata": {},
   "source": [
    "## Load genotype matrix\n",
    "This is adapted from my PSET 2 part 1 solution."
   ]
  },
  {
   "cell_type": "code",
   "execution_count": 11,
   "metadata": {},
   "outputs": [],
   "source": [
    "genotypematrix = np.loadtxt(os.path.join(DATA_PREFIX, \"chr_21_genotypes.tab\")).T"
   ]
  },
  {
   "cell_type": "markdown",
   "metadata": {},
   "source": [
    "## PCA\n",
    "This is also adapted from my PSET 2 part 1 solution."
   ]
  },
  {
   "cell_type": "code",
   "execution_count": null,
   "metadata": {},
   "outputs": [],
   "source": [
    "from sklearn.decomposition import PCA\n",
    "\n",
    "for pca_hp_settings in method2hpsettings[\"pca\"]:\n",
    "    pca = PCA(whiten=pca_hp_settings[\"whiten\"])\n",
    "    sample_loadings = pca.fit_transform(genotypematrix)\n",
    "    np.savetxt(os.path.join(OUT_PREFIX, \"pca_sample_loadings{}.txt\".format(run_id), sample_loadings))\n",
    "    run_id += 1"
   ]
  },
  {
   "cell_type": "markdown",
   "metadata": {},
   "source": [
    "## PCoA"
   ]
  },
  {
   "cell_type": "code",
   "execution_count": 4,
   "metadata": {},
   "outputs": [
    {
     "name": "stdout",
     "output_type": "stream",
     "text": [
      "['unweighted_unifrac', 'weighted_unifrac']\n"
     ]
    }
   ],
   "source": [
    "# TODO see http://scikit-bio.org/docs/latest/diversity.html#module-skbio.diversity\n",
    "# for details on doing this: use skbio.diversity.beta_diversity()\n",
    "\n",
    "for poca_hp_settings in method2hpsettings[\"pcoa\"]:\n",
    "    pass\n",
    "    run_id += 1"
   ]
  },
  {
   "cell_type": "markdown",
   "metadata": {},
   "source": [
    "## UMAP"
   ]
  },
  {
   "cell_type": "code",
   "execution_count": null,
   "metadata": {},
   "outputs": [],
   "source": [
    "# Run UMAP\n",
    "for poca_hp_settings in method2hpsettings[\"pcoa\"]:\n",
    "    pass\n",
    "    run_id += 1"
   ]
  },
  {
   "cell_type": "markdown",
   "metadata": {},
   "source": [
    "## t-SNE"
   ]
  },
  {
   "cell_type": "code",
   "execution_count": null,
   "metadata": {},
   "outputs": [],
   "source": [
    "# Run t-SNE\n",
    "for poca_hp_settings in method2hpsettings[\"pcoa\"]:\n",
    "    pass\n",
    "    run_id += 1"
   ]
  }
 ],
 "metadata": {
  "kernelspec": {
   "display_name": "Python 3",
   "language": "python",
   "name": "python3"
  },
  "language_info": {
   "codemirror_mode": {
    "name": "ipython",
    "version": 3
   },
   "file_extension": ".py",
   "mimetype": "text/x-python",
   "name": "python",
   "nbconvert_exporter": "python",
   "pygments_lexer": "ipython3",
   "version": "3.6.7"
  }
 },
 "nbformat": 4,
 "nbformat_minor": 2
}
