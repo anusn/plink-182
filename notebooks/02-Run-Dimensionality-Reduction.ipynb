{
 "cells": [
  {
   "cell_type": "markdown",
   "metadata": {},
   "source": [
    "# 2. Run the dimensionality reduction algorithms"
   ]
  },
  {
   "cell_type": "markdown",
   "metadata": {},
   "source": [
    "## 2.1. Define \"method + hyperparameter combinations\" to test\n",
    "\n",
    "`method2hpsettings` is a dictionary that maps the dimensionality reduction method name (one of `\"pca\"`, `\"pcoa\"`, `\"umap\"`, or `\"tsne\"`) to a list of dictionaries defining the hyperparameter settings to try for that method. The total number of dictionaries within lists defines the number of different \"method + hyperparameter combinations\" to test."
   ]
  },
  {
   "cell_type": "code",
   "execution_count": 1,
   "metadata": {},
   "outputs": [],
   "source": [
    "method2hpsettings = {\n",
    "    \"pca\": [{}],\n",
    "    \"pcoa\": [{\"metric\": \"jaccard\"}, {\"metric\": \"bray-curtis\"}, {\"metric\": \"canberra\"}],\n",
    "    \"umap\": [{}],\n",
    "    \"tsne\": [{}]\n",
    "}"
   ]
  },
  {
   "cell_type": "code",
   "execution_count": null,
   "metadata": {},
   "outputs": [],
   "source": [
    "# Run PCA\n",
    "for pca_hp_settings in method2hpsettings[\"pca\"]:\n",
    "    pass\n",
    "\n",
    "# Run PCoA\n",
    "for poca_hp_settings in method2hpsettings[\"pcoa\"]:\n",
    "    pass\n",
    "\n",
    "# Run UMAP\n",
    "for poca_hp_settings in method2hpsettings[\"pcoa\"]:\n",
    "    pass\n",
    "\n",
    "# Run t-SNE\n",
    "for poca_hp_settings in method2hpsettings[\"pcoa\"]:\n",
    "    pass"
   ]
  }
 ],
 "metadata": {
  "kernelspec": {
   "display_name": "Python 3",
   "language": "python",
   "name": "python3"
  },
  "language_info": {
   "codemirror_mode": {
    "name": "ipython",
    "version": 3
   },
   "file_extension": ".py",
   "mimetype": "text/x-python",
   "name": "python",
   "nbconvert_exporter": "python",
   "pygments_lexer": "ipython3",
   "version": "3.6.7"
  }
 },
 "nbformat": 4,
 "nbformat_minor": 2
}
