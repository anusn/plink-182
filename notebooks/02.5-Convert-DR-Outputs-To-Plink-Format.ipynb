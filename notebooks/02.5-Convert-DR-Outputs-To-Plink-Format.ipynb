{
 "cells": [
  {
   "cell_type": "markdown",
   "metadata": {},
   "source": [
    "# 2.5. Convert dimensionality reduction results to plink `.cov` format"
   ]
  },
  {
   "cell_type": "code",
   "execution_count": 9,
   "metadata": {},
   "outputs": [],
   "source": [
    "import pandas as pd\n",
    "import numpy as np\n",
    "import os\n",
    "\n",
    "PREFIX = os.path.join(os.environ[\"HOME\"],\"Dropbox/School/UCSD/Year2/Spring2020/CSE284/project/plink-182\")\n",
    "DR_OUT_PREFIX = os.path.join(PREFIX, \"dr_outputs\")\n",
    "PLINK_DR_OUT_PREFIX = os.path.join(PREFIX, \"cov_dr_outputs\")\n",
    "\n",
    "sample_metadata = pd.read_csv(os.path.join(PREFIX, \"data\", \"sample_metadata.tsv\"), sep=\"\\t\", index_col=0)\n",
    "\n",
    "for dr_output_filename in os.listdir(DR_OUT_PREFIX):\n",
    "    # Load data\n",
    "    reduced_data = np.loadtxt(os.path.join(DR_OUT_PREFIX, dr_output_filename))\n",
    "    reduced_data_df = pd.DataFrame(reduced_data)\n",
    "    reduced_data_df.index = sample_metadata.index\n",
    "    reduced_data_df.insert(0, \"sampleid_again\", sample_metadata.index)\n",
    "    reduced_data_df.to_csv(\n",
    "        os.path.join(PLINK_DR_OUT_PREFIX, dr_output_filename.replace(\".txt\", \".cov\")),\n",
    "        header=None,\n",
    "        sep=\"\\t\"\n",
    "    )"
   ]
  }
 ],
 "metadata": {
  "kernelspec": {
   "display_name": "Python 3",
   "language": "python",
   "name": "python3"
  },
  "language_info": {
   "codemirror_mode": {
    "name": "ipython",
    "version": 3
   },
   "file_extension": ".py",
   "mimetype": "text/x-python",
   "name": "python",
   "nbconvert_exporter": "python",
   "pygments_lexer": "ipython3",
   "version": "3.6.7"
  }
 },
 "nbformat": 4,
 "nbformat_minor": 2
}
